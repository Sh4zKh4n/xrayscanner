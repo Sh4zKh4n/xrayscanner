{
 "cells": [
  {
   "cell_type": "code",
   "execution_count": 1,
   "metadata": {},
   "outputs": [],
   "source": [
    "import warnings\n",
    "with warnings.catch_warnings():\n",
    "    warnings.filterwarnings(\"ignore\",category=FutureWarning)\n",
    "    import h5py\n",
    "import numpy as np\n",
    "import math\n",
    "import matplotlib.pyplot as plt  \n",
    "import numba\n",
    "try:\n",
    "    profile  # throws an exception when profile isn't defined\n",
    "except NameError:\n",
    "    profile = lambda x: x"
   ]
  },
  {
   "cell_type": "code",
   "execution_count": 2,
   "metadata": {},
   "outputs": [],
   "source": [
    "@numba.jit\n",
    "def onemove_in_cube_true_numba(p0,v): \n",
    "    v[v==0]=1e-16\n",
    "    htime=np.abs((np.floor(p0)-p0+(v>0))/v)\n",
    "    minLoc=np.argmin(htime)\n",
    "    dist=htime[minLoc]\n",
    "    htime=p0+dist*v\n",
    "    htime[minLoc]=round(htime[minLoc])+np.spacing(abs(htime[minLoc]))*np.sign(v[minLoc])\n",
    "    return htime,dist"
   ]
  },
  {
   "cell_type": "code",
   "execution_count": 3,
   "metadata": {},
   "outputs": [],
   "source": [
    "def main_loop(Mx,My,Nx,Ny,Nz,h,D,orginOffset,ep,mu):\n",
    "    detector=np.zeros((Mx,My),dtype=np.float32)\n",
    "    for z in range(0,Mx*My): \n",
    "        j=z%Mx\n",
    "        i=int(z/Mx) \n",
    "        pos=np.array([orginOffset[0]+i*D,orginOffset[1]+D*j, 0],dtype=np.float32)\n",
    "        dir=((ep-pos)/np.linalg.norm(ep-pos)).astype(np.float32)\n",
    "        L=1\n",
    "        while pos[2]< h+Nz:\n",
    "            pos,dist=onemove_in_cube_true_numba(pos,dir)\n",
    "            if 0 <= pos[0] < Nx and 0<=pos[1]<Ny  and h<=pos[2] < h+Nz:\n",
    "                L=L*np.exp(-1*mu[math.floor(pos[0]),math.floor(pos[1]),math.floor(pos[2]-h)]*dist)\n",
    "        detector[i][j] = L;\n",
    "    return detector"
   ]
  },
  {
   "cell_type": "code",
   "execution_count": 4,
   "metadata": {},
   "outputs": [],
   "source": [
    "Nx = 208\n",
    "Ny = 256 \n",
    "Nz = 225\n",
    "Mx = 200\n",
    "My = 200\n",
    "D = 2\n",
    "h = 50\n",
    "H = h + Nz + 200\n",
    "orginOffset = np.array(\n",
    "        [(-Mx * D) / 2 + (Nx / 2), (-My * D) / 2 + (Ny / 2), 0], dtype=np.float32)\n",
    "ep = np.array([Nx / 2, Ny / 2, H], dtype = np.float32)\n",
    "muBone = 0.573\n",
    "muFat = 0.193\n",
    "orginOffset = np.array([(-Mx * D) / 2 + (Nx / 2), (-My * D) / 2 +(Ny / 2), 0],dtype=np.float32) \n",
    "ep = np.array([Nx / 2, Ny / 2, H],dtype=np.float32)                                              \n",
    "f = h5py.File('headct.h5', 'r')\n",
    "headct=np.array(f.get('ct'))\n",
    "headct=np.transpose(headct)\n",
    "det=f.get('det')\n",
    "det=np.transpose(det)\n",
    "mu=np.zeros((Nx,Ny,Nz),dtype=np.float32)\n",
    "mu[np.nonzero(headct>0)]=((headct[np.nonzero(headct>0)]-0.3)/(0.7))*(muBone-muFat)+muFat"
   ]
  },
  {
   "cell_type": "code",
   "execution_count": 5,
   "metadata": {},
   "outputs": [],
   "source": [
    "main_num=numba.jit(main_loop,nopython=True,debug=True)"
   ]
  },
  {
   "cell_type": "code",
   "execution_count": 6,
   "metadata": {
    "scrolled": false
   },
   "outputs": [],
   "source": [
    "detector=main_num(Mx,My,Nx,Ny,Nz,h,D,orginOffset,ep,mu)"
   ]
  },
  {
   "cell_type": "code",
   "execution_count": null,
   "metadata": {},
   "outputs": [],
   "source": [
    "main_num.inspect_types()"
   ]
  },
  {
   "cell_type": "code",
   "execution_count": 7,
   "metadata": {},
   "outputs": [
    {
     "name": "stdout",
     "output_type": "stream",
     "text": [
      "True\n"
     ]
    }
   ],
   "source": [
    "print(np.isclose(det,detector,rtol=.5).all())\n",
    "np.save('Detector.npy',detector)"
   ]
  },
  {
   "cell_type": "code",
   "execution_count": null,
   "metadata": {},
   "outputs": [],
   "source": [
    "#Numpy\n",
    "%timeit onemove_in_cube_true(np.array([1,2,2],dtype='float32'),np.array([.11,.22,.12],dtype='float32'))"
   ]
  },
  {
   "cell_type": "code",
   "execution_count": null,
   "metadata": {},
   "outputs": [],
   "source": [
    "#cython\n",
    "%timeit move_step.onemove_in_cube_true(np.array([1,2,2],dtype='float32'),np.array([.11,.22,.12],dtype='float32'))"
   ]
  },
  {
   "cell_type": "code",
   "execution_count": null,
   "metadata": {},
   "outputs": [],
   "source": [
    "#Numba No Type\n",
    "%timeit onemove_in_cube_true_numba(np.array([1,2,2],dtype='float32'),np.array([.11,.22,.12],dtype='float32'))"
   ]
  },
  {
   "cell_type": "code",
   "execution_count": 13,
   "metadata": {},
   "outputs": [
    {
     "data": {
      "text/plain": [
       "208"
      ]
     },
     "execution_count": 13,
     "metadata": {},
     "output_type": "execute_result"
    }
   ],
   "source": [
    "np.size(headct,0)"
   ]
  },
  {
   "cell_type": "code",
   "execution_count": null,
   "metadata": {},
   "outputs": [],
   "source": []
  }
 ],
 "metadata": {
  "kernelspec": {
   "display_name": "Python 3",
   "language": "python",
   "name": "python3"
  },
  "language_info": {
   "codemirror_mode": {
    "name": "ipython",
    "version": 3
   },
   "file_extension": ".py",
   "mimetype": "text/x-python",
   "name": "python",
   "nbconvert_exporter": "python",
   "pygments_lexer": "ipython3",
   "version": "3.5.2"
  }
 },
 "nbformat": 4,
 "nbformat_minor": 2
}
