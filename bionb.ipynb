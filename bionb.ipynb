{
 "cells": [
  {
   "cell_type": "code",
   "execution_count": null,
   "metadata": {},
   "outputs": [],
   "source": [
    "%env NUMBA_ENABLE_CUDASIM 1"
   ]
  },
  {
   "cell_type": "code",
   "execution_count": null,
   "metadata": {},
   "outputs": [],
   "source": [
    "import h5py\n",
    "import numpy as np\n",
    "import numba\n",
    "import matplotlib\n",
    "from matplotlib.pyplot import figure, colorbar, savefig, title, xlabel, ylabel, imshow, close\n",
    "import timeit\n",
    "import math\n",
    "from numba import cuda\n",
    "import llvmlite.binding as llvm\n",
    "from pdb import set_trace;\n",
    "llvm.set_option('', '--debug-only=loop-vectorize')"
   ]
  },
  {
   "cell_type": "code",
   "execution_count": null,
   "metadata": {},
   "outputs": [],
   "source": [
    "@numba.jit(nopython=True, nogil=True, cache=True)\n",
    "def onemove_in_cube_true_numba(p0, v):\n",
    "    htime = np.abs((np.floor(p0) - p0 + (v > 0)) / v) \n",
    "    print(htime)\n",
    "    minLoc = np.argmin(htime) \n",
    "    dist = htime[minLoc] \n",
    "    htime = p0 + dist * v \n",
    "    htime[minLoc] = np.round(htime[minLoc]) + np.spacing(np.abs(htime[minLoc])) * np.sign(v[minLoc])\n",
    "    return htime, dist"
   ]
  },
  {
   "cell_type": "code",
   "execution_count": null,
   "metadata": {},
   "outputs": [],
   "source": [
    "a,b=onemove_in_cube_true_numba(np.array([104,128,0]), np.array([-0.70710677, -0.70710677, 1e-16]))"
   ]
  },
  {
   "cell_type": "code",
   "execution_count": null,
   "metadata": {},
   "outputs": [],
   "source": [
    "p0=np.array([1.1,2.2,33.3])\n",
    "v"
   ]
  },
  {
   "cell_type": "code",
   "execution_count": null,
   "metadata": {},
   "outputs": [],
   "source": [
    "def main_loop(Nx, Ny, Nz, Mx, My, D, h, orginOffset, ep, mu):\n",
    "    detector = np.zeros((Mx, My), dtype=np.float32) \n",
    "    for i in range(Mx): \n",
    "        for j in range(My):\n",
    "            pos = np.array([orginOffset[0] + i * D, orginOffset[1] + D * j, 0], dtype=np.float32) \n",
    "            dir = ((ep - pos) / np.linalg.norm(ep - pos)).astype(np.float32)\n",
    "            dir[dir == 0] = 1e-16\n",
    "            L = 0  \n",
    "            h_z = h + Nz\n",
    "            while pos[2] < h_z:  \n",
    "                print(pos, dir)\n",
    "                pos, dist = onemove_in_cube_true_numba(pos, dir)  \n",
    "                if 0 <= pos[0] < Nx and 0 <= pos[1] < Ny and h <= pos[2] < h_z:\n",
    "                    L += mu[int(np.floor(pos[0])),int(np.floor(pos[1])) , int(np.floor(pos[2] - h))] * dist\n",
    "            detector[i][j] = L \n",
    "    return detector"
   ]
  },
  {
   "cell_type": "code",
   "execution_count": null,
   "metadata": {},
   "outputs": [],
   "source": [
    "f = h5py.File('headct.h5', 'r') #HDF5 file containing Headct array of linear attenuation coeffcients(Nx,Ny,Nz)\n",
    "headct=np.array(f.get('ct'))\n",
    "headct=np.transpose(headct) #linear attenuation coeffceient matrix\n",
    "det=f.get('det')\n",
    "det=np.transpose(det) #Result of running this code on Matlab for later comparsion\n",
    "Nx = np.size(headct,0) #Imaging x dimension length in mm\n",
    "Ny = np.size(headct,1) #Imaging y dimension length in mm\n",
    "Nz = np.size(headct,2) #Imaging z dimension length in mm\n",
    "Mx = 200 #Number of pixels in x direction\n",
    "My = 200 #Number of pixels in y direction\n",
    "D = 2 #Size of each pixel in mm\n",
    "h = 50 #distance(Z) bettween bottom of imaging volume and detector\n",
    "H = h + Nz + 200 #distance(Z) bettween detector and x-ray source\n",
    "muBone = 0.573 #linear attenuation coeffcient bone cm^-1\n",
    "muFat = 0.193 #linear attenuation coeffcient fat cm^-1\n",
    "orginOffset = np.array([(-Mx * D) / 2 + (Nx / 2), (-My * D) / 2 + (Ny / 2), 0], dtype=np.float32) #offset from origin to detector start (X,Y,Z)\n",
    "ep = np.array([Nx / 2, Ny / 2, H], dtype = np.float32) #location of x-ray soruce\n",
    "orginOffset = np.array([(-Mx * D) / 2 + (Nx / 2), (-My * D) / 2 +(Ny / 2), 0],dtype=np.float32) #offset from origin to detector start\n",
    "mu=np.zeros((Nx,Ny,Nz),dtype=np.float32) #(Nx,Ny,Nz) linear attenuation coeffcient matrix \n",
    "mu[np.nonzero(headct>0)]=((headct[np.nonzero(headct>0)]-0.3)/(0.7))*(muBone-muFat)+muFat #Normilization of givens mus of linear attenuation matrix"
   ]
  },
  {
   "cell_type": "code",
   "execution_count": null,
   "metadata": {},
   "outputs": [],
   "source": [
    "main_loop_par=numba.njit(main_loop)"
   ]
  },
  {
   "cell_type": "code",
   "execution_count": null,
   "metadata": {},
   "outputs": [],
   "source": [
    "detA = main_loop_par(Nx, Ny, Nz, Mx, My, D, h, orginOffset, ep, mu)\n",
    "detector = np.exp(detA * -10, dtype=np.float64)"
   ]
  },
  {
   "cell_type": "code",
   "execution_count": null,
   "metadata": {},
   "outputs": [],
   "source": [
    "imshow(np.log(detector))"
   ]
  },
  {
   "cell_type": "code",
   "execution_count": null,
   "metadata": {},
   "outputs": [],
   "source": [
    "@cuda.jit(device=True)\n",
    "def onemove_in_cube_true_numba(p0, v):\n",
    "    htime=cuda.local.array((3), dtype=numba.float32)\n",
    "    for i in range(3):\n",
    "        if v[i]>0:\n",
    "            htime[i]=abs((math.floor(p0[i]) - p0[i] + 1) / v[i])  \n",
    "        else:\n",
    "            htime[i]=abs((math.floor(p0[i]) - p0[i]) / v[i])  \n",
    "\n",
    "    minA=0\n",
    "    minV=htime[0]\n",
    "    for i in range(1,3):\n",
    "        if minV>htime[i]:\n",
    "            minA=i\n",
    "            minV=htime[i]\n",
    "    dist = htime[minA] \n",
    "    for i in range(3):\n",
    "        htime[i] = p0[i] + dist * v[i] \n",
    "    if v[minA]<0:\n",
    "        htime[minA] = round(htime[minA]) + 1.5e-19 * -1\n",
    "    else:\n",
    "        htime[minA] = round(htime[minA]) + 1.5e-19 \n",
    "    return htime, dist"
   ]
  },
  {
   "cell_type": "code",
   "execution_count": null,
   "metadata": {},
   "outputs": [],
   "source": [
    "@cuda.jit\n",
    "def main_loop(obj_dim, scene_info, orginOffset, ep, mu, detector):\n",
    "    i, j = cuda.grid(2)\n",
    "    if i < detector.shape[0] and j <detector.shape[1]:\n",
    "        pos=cuda.local.array((3), dtype=numba.float32)\n",
    "        direction=cuda.local.array((3), dtype=numba.float32)\n",
    "        pos[0]=orginOffset[0] + i * scene_info[0]\n",
    "        pos[1]=orginOffset[1] + scene_info[0] * j\n",
    "        pos[2]=0\n",
    "        norm=0\n",
    "        for k in range(3):\n",
    "            norm+=math.pow(ep[k]-pos[k],2)  \n",
    "        norm=math.sqrt(norm)\n",
    "        \n",
    "        for k in range(3):\n",
    "            direction[k]=(ep[k]-pos[k])/norm\n",
    "            if direction[k]==0:\n",
    "                direction[k]=1e-16        \n",
    "        L = 0  \n",
    "        h_z = scene_info[1] + obj_dim[1]\n",
    "        while pos[2] < h_z:  \n",
    "            pos, dist = onemove_in_cube_true_numba(pos, direction)\n",
    "            print(pos)\n",
    "            if 0 <= pos[0] < obj_dim[0] and 0 <= pos[1] < obj_dim[1] and  scene_info[1] <= pos[2] < h_z:\n",
    "                L += mu[int(math.floor(pos[0])),int(math.floor(pos[1]) ),int( math.floor(pos[2] -  scene_info[1]))] * dist\n",
    "        detector[i][j] = L \n"
   ]
  },
  {
   "cell_type": "code",
   "execution_count": null,
   "metadata": {},
   "outputs": [],
   "source": [
    "stream = cuda.stream()\n",
    "h_detector = np.zeros((Mx, My), dtype=np.float32) \n",
    "d_detector = cuda.to_device(h_detector, stream)\n",
    "d_mu=cuda.to_device(mu)\n",
    "h_obj_dim=np.array([Nx,Ny, Nz])\n",
    "d_obj_dim = cuda.to_device(h_obj_dim, stream)\n",
    "h_scene_info=np.array([D, h])\n",
    "d_scene_info = cuda.to_device(h_scene_info, stream)\n",
    "d_ep = cuda.to_device(orginOffset, stream)\n",
    "d_orginOffset = cuda.to_device(ep, stream)\n",
    "main_loop[10, 10, stream](d_obj_dim, d_scene_info, d_orginOffset, d_ep, d_mu, d_detector)\n",
    "detector = d_detector.copy_to_host(stream=stream)"
   ]
  },
  {
   "cell_type": "code",
   "execution_count": null,
   "metadata": {},
   "outputs": [],
   "source": [
    "i=1\n",
    "j=1\n",
    "pos=[0,  0, 0]\n",
    "pos[0]=d_orginOffset[0] + i * d_scene_info[0]\n",
    "pos[1]=d_orginOffset[1] + d_scene_info[0] * j\n",
    "pos[2]=0"
   ]
  },
  {
   "cell_type": "code",
   "execution_count": null,
   "metadata": {},
   "outputs": [],
   "source": [
    "res=np.array(pos)"
   ]
  },
  {
   "cell_type": "code",
   "execution_count": null,
   "metadata": {},
   "outputs": [],
   "source": [
    "np.floor(res)-res"
   ]
  },
  {
   "cell_type": "code",
   "execution_count": null,
   "metadata": {},
   "outputs": [],
   "source": []
  }
 ],
 "metadata": {
  "kernelspec": {
   "display_name": "Python 3",
   "language": "python",
   "name": "python3"
  },
  "language_info": {
   "codemirror_mode": {
    "name": "ipython",
    "version": 3
   },
   "file_extension": ".py",
   "mimetype": "text/x-python",
   "name": "python",
   "nbconvert_exporter": "python",
   "pygments_lexer": "ipython3",
   "version": "3.7.0"
  }
 },
 "nbformat": 4,
 "nbformat_minor": 2
}
