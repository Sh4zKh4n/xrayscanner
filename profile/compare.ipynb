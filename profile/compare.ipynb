{
 "cells": [
  {
   "cell_type": "code",
   "execution_count": null,
   "metadata": {},
   "outputs": [],
   "source": [
    "import numpy as np\n",
    "import matplotlib.pyplot as plt\n",
    "from matplotlib.ticker import MaxNLocator\n",
    "from collections import namedtuple\n",
    "import mpld3\n",
    "import matplotlib\n",
    "mpld3.enable_notebook()"
   ]
  },
  {
   "cell_type": "code",
   "execution_count": null,
   "metadata": {},
   "outputs": [],
   "source": [
    "tgpu=np.load('gpu_numba.npy')\n",
    "tnumba=np.load('cpu_numba.npy')\n",
    "tcpu=np.load('cpu.npy')\n",
    "Mx_ls = [20,50,90, 128, 170,250, 350, 450, 500]"
   ]
  },
  {
   "cell_type": "code",
   "execution_count": null,
   "metadata": {},
   "outputs": [],
   "source": [
    "n_groups = 9\n",
    "\n",
    "mean_numba = tnumba[:,0]\n",
    "std_numba = tnumba[:,1]\n",
    "mean_numbagpu = tgpu[:,0]\n",
    "std_numbagpu = tgpu[:,1]\n",
    "\n",
    "means_cpu = tcpu\n",
    "std_cpu = np.zeros(len(tnumba[:,1]))\n",
    "\n",
    "fig, ax = plt.subplots()\n",
    "\n",
    "index = np.arange(n_groups)\n",
    "bar_width = 0.35\n",
    "\n",
    "opacity = 0.4\n",
    "error_config = {'ecolor': '0.3'}\n",
    "\n",
    "rects1 = ax.bar(index, mean_numba, bar_width,\n",
    "                alpha=opacity, color='b',\n",
    "                yerr=std_numba, error_kw=error_config,\n",
    "                label='Numba')\n",
    "\n",
    "rects2 = ax.bar(index + bar_width, means_cpu, bar_width,\n",
    "                alpha=opacity, color='r',\n",
    "                yerr=std_cpu, error_kw=error_config,\n",
    "                label='CPU')\n",
    "\n",
    "ax.set_xlabel('Detector Dimension X')\n",
    "ax.set_ylabel('Time(s)')\n",
    "ax.set_title('Numba vs CPU')\n",
    "ax.set_xticks(index + bar_width / 2)\n",
    "ax.set_xticklabels(('20','50','90', '128', '170','250', '350', '450', '500'))\n",
    "ax.legend()\n",
    "\n",
    "fig.tight_layout()\n",
    "labels1 = [f'Time {i:.02f}s' for i in mean_numba]\n",
    "labels2 = [f'Time {i:.02f}s' for i in means_cpu]\n",
    "\n",
    "#tooltip1 = mpld3.plugins.PointLabelTooltip(rects1, labels=labels1)\n",
    "#mpld3.plugins.connect(fig, tooltip1)\n",
    "#tooltip2 = mpld3.plugins.PointLabelTooltip(rects2, labels=labels2)\n",
    "#mpld3.plugins.connect(fig, tooltip2)\n",
    "\n",
    "\n",
    "mpld3.display(fig)"
   ]
  },
  {
   "cell_type": "code",
   "execution_count": null,
   "metadata": {},
   "outputs": [],
   "source": [
    "%config InlineBackend.figure_format = 'retina'\n",
    "#fig=plt.figure(figsize=(8, 6), dpi= 120, facecolor='w', edgecolor='k')\n",
    "matplotlib.rcParams.update({'font.size': 20})\n",
    "fig, ax =plt.subplots(nrows=1, ncols=2, figsize=(14, 6))\n",
    "plt.subplot(1,2,1)\n",
    "s1=plt.scatter(Mx_ls,mean_numba, s=150)\n",
    "s2=plt.scatter(Mx_ls,means_cpu, s=150)\n",
    "plt.xlabel('Square Root # Pixels')\n",
    "plt.ylabel('Time(s)')\n",
    "plt.title('Running time Numba vs Python')\n",
    "plt.tight_layout()\n",
    "labels1 = [f'<h3>Time {i:.02f}s<h3>' for i in  mean_numba]\n",
    "tooltip1 = mpld3.plugins.PointHTMLTooltip(s1, labels=labels1, voffset=-70, hoffset=-50)\n",
    "labels2 = [f'<h3>Time {i:.02f}s<h3>' for i in means_cpu]\n",
    "tooltip2 = mpld3.plugins.PointHTMLTooltip(s2, labels=labels2, voffset=-70, hoffset=-50)\n",
    "mpld3.plugins.connect(fig, tooltip1,tooltip2)\n",
    "plt.subplot(1,2,2)\n",
    "\n",
    "s1=plt.scatter(Mx_ls, means_cpu/mean_numba, s=350)\n",
    "plt.xlabel('Square Root # Pixels')\n",
    "plt.ylabel('Time(s)')\n",
    "plt.title('Ratio comparsion Numba / Python')\n",
    "plt.tight_layout()\n",
    "labels1 = [f'<h3>Ratio {i:.02f}<h3>' for i in means_cpu/mean_numba]\n",
    "tooltip1 = mpld3.plugins.PointHTMLTooltip(s1, labels=labels1, voffset=-70, hoffset=-50)\n",
    "mpld3.plugins.connect(fig, tooltip1)\n",
    "\n",
    "\n",
    "mpld3.save_html(fig, open('scatter_numbapython.html', 'w'))"
   ]
  },
  {
   "cell_type": "code",
   "execution_count": null,
   "metadata": {},
   "outputs": [],
   "source": [
    "matplotlib.rcParams.update({'font.size': 20})\n",
    "fig=plt.figure(figsize=(8, 6), dpi= 120, facecolor='w', edgecolor='k')\n",
    "ax = fig.add_subplot(111)\n",
    "\n",
    "s1=ax.scatter(Mx_ls, means_cpu/mean_numba, s=350)\n",
    "plt.xlabel('Square Root # Pixels')\n",
    "plt.ylabel('Time(s)')\n",
    "plt.title('Ratio comparsion Numba / Python')\n",
    "plt.tight_layout()\n",
    "labels1 = [f'<h3>Ratio {i:.02f}<h3>' for i in means_cpu/mean_numba]\n",
    "\n",
    "tooltip1 = mpld3.plugins.PointHTMLTooltip(s1, labels=labels1, voffset=-70, hoffset=-50)\n",
    "mpld3.plugins.connect(fig, tooltip1)\n",
    "\n",
    "mpld3.save_html(fig, open('scatter_ratio.html', 'w'))"
   ]
  },
  {
   "cell_type": "code",
   "execution_count": null,
   "metadata": {},
   "outputs": [],
   "source": []
  }
 ],
 "metadata": {
  "kernelspec": {
   "display_name": "Python 3",
   "language": "python",
   "name": "python3"
  },
  "language_info": {
   "codemirror_mode": {
    "name": "ipython",
    "version": 3
   },
   "file_extension": ".py",
   "mimetype": "text/x-python",
   "name": "python",
   "nbconvert_exporter": "python",
   "pygments_lexer": "ipython3",
   "version": "3.7.0"
  }
 },
 "nbformat": 4,
 "nbformat_minor": 2
}
